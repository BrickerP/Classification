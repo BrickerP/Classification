{
  "cells":[
    {
      "cell_type":"code",
      "source":[
        "import pandas as pd\n",
        "train_data = pd.read_csv(\"train.csv\")\n",
        "test_data = pd.read_csv(\"test.csv\")\n",
        "train_data"
      ],
      "execution_count":1,
      "outputs":[
        {
          "data":{
            "text\/html":[
              "<div>\n",
              "<style scoped>\n",
              "    .dataframe tbody tr th:only-of-type {\n",
              "        vertical-align: middle;\n",
              "    }\n",
              "\n",
              "    .dataframe tbody tr th {\n",
              "        vertical-align: top;\n",
              "    }\n",
              "\n",
              "    .dataframe thead th {\n",
              "        text-align: right;\n",
              "    }\n",
              "<\/style>\n",
              "<table border=\"1\" class=\"dataframe\">\n",
              "  <thead>\n",
              "    <tr style=\"text-align: right;\">\n",
              "      <th><\/th>\n",
              "      <th>PassengerId<\/th>\n",
              "      <th>Survived<\/th>\n",
              "      <th>Pclass<\/th>\n",
              "      <th>Name<\/th>\n",
              "      <th>Sex<\/th>\n",
              "      <th>Age<\/th>\n",
              "      <th>SibSp<\/th>\n",
              "      <th>Parch<\/th>\n",
              "      <th>Ticket<\/th>\n",
              "      <th>Fare<\/th>\n",
              "      <th>Cabin<\/th>\n",
              "      <th>Embarked<\/th>\n",
              "    <\/tr>\n",
              "  <\/thead>\n",
              "  <tbody>\n",
              "    <tr>\n",
              "      <th>0<\/th>\n",
              "      <td>1<\/td>\n",
              "      <td>0<\/td>\n",
              "      <td>3<\/td>\n",
              "      <td>Braund, Mr. Owen Harris<\/td>\n",
              "      <td>male<\/td>\n",
              "      <td>22.0<\/td>\n",
              "      <td>1<\/td>\n",
              "      <td>0<\/td>\n",
              "      <td>A\/5 21171<\/td>\n",
              "      <td>7.2500<\/td>\n",
              "      <td>NaN<\/td>\n",
              "      <td>S<\/td>\n",
              "    <\/tr>\n",
              "    <tr>\n",
              "      <th>1<\/th>\n",
              "      <td>2<\/td>\n",
              "      <td>1<\/td>\n",
              "      <td>1<\/td>\n",
              "      <td>Cumings, Mrs. John Bradley (Florence Briggs Th...<\/td>\n",
              "      <td>female<\/td>\n",
              "      <td>38.0<\/td>\n",
              "      <td>1<\/td>\n",
              "      <td>0<\/td>\n",
              "      <td>PC 17599<\/td>\n",
              "      <td>71.2833<\/td>\n",
              "      <td>C85<\/td>\n",
              "      <td>C<\/td>\n",
              "    <\/tr>\n",
              "    <tr>\n",
              "      <th>2<\/th>\n",
              "      <td>3<\/td>\n",
              "      <td>1<\/td>\n",
              "      <td>3<\/td>\n",
              "      <td>Heikkinen, Miss. Laina<\/td>\n",
              "      <td>female<\/td>\n",
              "      <td>26.0<\/td>\n",
              "      <td>0<\/td>\n",
              "      <td>0<\/td>\n",
              "      <td>STON\/O2. 3101282<\/td>\n",
              "      <td>7.9250<\/td>\n",
              "      <td>NaN<\/td>\n",
              "      <td>S<\/td>\n",
              "    <\/tr>\n",
              "    <tr>\n",
              "      <th>3<\/th>\n",
              "      <td>4<\/td>\n",
              "      <td>1<\/td>\n",
              "      <td>1<\/td>\n",
              "      <td>Futrelle, Mrs. Jacques Heath (Lily May Peel)<\/td>\n",
              "      <td>female<\/td>\n",
              "      <td>35.0<\/td>\n",
              "      <td>1<\/td>\n",
              "      <td>0<\/td>\n",
              "      <td>113803<\/td>\n",
              "      <td>53.1000<\/td>\n",
              "      <td>C123<\/td>\n",
              "      <td>S<\/td>\n",
              "    <\/tr>\n",
              "    <tr>\n",
              "      <th>4<\/th>\n",
              "      <td>5<\/td>\n",
              "      <td>0<\/td>\n",
              "      <td>3<\/td>\n",
              "      <td>Allen, Mr. William Henry<\/td>\n",
              "      <td>male<\/td>\n",
              "      <td>35.0<\/td>\n",
              "      <td>0<\/td>\n",
              "      <td>0<\/td>\n",
              "      <td>373450<\/td>\n",
              "      <td>8.0500<\/td>\n",
              "      <td>NaN<\/td>\n",
              "      <td>S<\/td>\n",
              "    <\/tr>\n",
              "    <tr>\n",
              "      <th>...<\/th>\n",
              "      <td>...<\/td>\n",
              "      <td>...<\/td>\n",
              "      <td>...<\/td>\n",
              "      <td>...<\/td>\n",
              "      <td>...<\/td>\n",
              "      <td>...<\/td>\n",
              "      <td>...<\/td>\n",
              "      <td>...<\/td>\n",
              "      <td>...<\/td>\n",
              "      <td>...<\/td>\n",
              "      <td>...<\/td>\n",
              "      <td>...<\/td>\n",
              "    <\/tr>\n",
              "    <tr>\n",
              "      <th>886<\/th>\n",
              "      <td>887<\/td>\n",
              "      <td>0<\/td>\n",
              "      <td>2<\/td>\n",
              "      <td>Montvila, Rev. Juozas<\/td>\n",
              "      <td>male<\/td>\n",
              "      <td>27.0<\/td>\n",
              "      <td>0<\/td>\n",
              "      <td>0<\/td>\n",
              "      <td>211536<\/td>\n",
              "      <td>13.0000<\/td>\n",
              "      <td>NaN<\/td>\n",
              "      <td>S<\/td>\n",
              "    <\/tr>\n",
              "    <tr>\n",
              "      <th>887<\/th>\n",
              "      <td>888<\/td>\n",
              "      <td>1<\/td>\n",
              "      <td>1<\/td>\n",
              "      <td>Graham, Miss. Margaret Edith<\/td>\n",
              "      <td>female<\/td>\n",
              "      <td>19.0<\/td>\n",
              "      <td>0<\/td>\n",
              "      <td>0<\/td>\n",
              "      <td>112053<\/td>\n",
              "      <td>30.0000<\/td>\n",
              "      <td>B42<\/td>\n",
              "      <td>S<\/td>\n",
              "    <\/tr>\n",
              "    <tr>\n",
              "      <th>888<\/th>\n",
              "      <td>889<\/td>\n",
              "      <td>0<\/td>\n",
              "      <td>3<\/td>\n",
              "      <td>Johnston, Miss. Catherine Helen \"Carrie\"<\/td>\n",
              "      <td>female<\/td>\n",
              "      <td>NaN<\/td>\n",
              "      <td>1<\/td>\n",
              "      <td>2<\/td>\n",
              "      <td>W.\/C. 6607<\/td>\n",
              "      <td>23.4500<\/td>\n",
              "      <td>NaN<\/td>\n",
              "      <td>S<\/td>\n",
              "    <\/tr>\n",
              "    <tr>\n",
              "      <th>889<\/th>\n",
              "      <td>890<\/td>\n",
              "      <td>1<\/td>\n",
              "      <td>1<\/td>\n",
              "      <td>Behr, Mr. Karl Howell<\/td>\n",
              "      <td>male<\/td>\n",
              "      <td>26.0<\/td>\n",
              "      <td>0<\/td>\n",
              "      <td>0<\/td>\n",
              "      <td>111369<\/td>\n",
              "      <td>30.0000<\/td>\n",
              "      <td>C148<\/td>\n",
              "      <td>C<\/td>\n",
              "    <\/tr>\n",
              "    <tr>\n",
              "      <th>890<\/th>\n",
              "      <td>891<\/td>\n",
              "      <td>0<\/td>\n",
              "      <td>3<\/td>\n",
              "      <td>Dooley, Mr. Patrick<\/td>\n",
              "      <td>male<\/td>\n",
              "      <td>32.0<\/td>\n",
              "      <td>0<\/td>\n",
              "      <td>0<\/td>\n",
              "      <td>370376<\/td>\n",
              "      <td>7.7500<\/td>\n",
              "      <td>NaN<\/td>\n",
              "      <td>Q<\/td>\n",
              "    <\/tr>\n",
              "  <\/tbody>\n",
              "<\/table>\n",
              "<p>891 rows × 12 columns<\/p>\n",
              "<\/div>"
            ]
          },
          "metadata":{
            
          },
          "output_type":"display_data"
        }
      ],
      "metadata":{
        "jupyter":{
          "source_hidden":false,
          "outputs_hidden":false
        },
        "datalore":{
          "type":"CODE",
          "sheet_delimiter":false
        }
      }
    },
    {
      "cell_type":"code",
      "source":[
        "train_data.info()"
      ],
      "execution_count":2,
      "outputs":[
        {
          "name":"stdout",
          "text":[
            "<class 'pandas.core.frame.DataFrame'>\n",
            "RangeIndex: 891 entries, 0 to 890\n",
            "Data columns (total 12 columns):\n",
            " #   Column       Non-Null Count  Dtype  \n",
            "---  ------       --------------  -----  \n",
            " 0   PassengerId  891 non-null    int64  \n",
            " 1   Survived     891 non-null    int64  \n",
            " 2   Pclass       891 non-null    int64  \n",
            " 3   Name         891 non-null    object \n",
            " 4   Sex          891 non-null    object \n",
            " 5   Age          714 non-null    float64\n",
            " 6   SibSp        891 non-null    int64  \n",
            " 7   Parch        891 non-null    int64  \n",
            " 8   Ticket       891 non-null    object \n",
            " 9   Fare         891 non-null    float64\n",
            " 10  Cabin        204 non-null    object \n",
            " 11  Embarked     889 non-null    object \n",
            "dtypes: float64(2), int64(5), object(5)\n",
            "memory usage: 83.7+ KB\n"
          ],
          "output_type":"stream"
        }
      ],
      "metadata":{
        "jupyter":{
          "source_hidden":false,
          "outputs_hidden":false
        },
        "datalore":{
          "type":"CODE",
          "sheet_delimiter":false
        }
      }
    },
    {
      "cell_type":"code",
      "source":[
        "train_data.describe()"
      ],
      "execution_count":3,
      "outputs":[
        {
          "data":{
            "text\/html":[
              "<div>\n",
              "<style scoped>\n",
              "    .dataframe tbody tr th:only-of-type {\n",
              "        vertical-align: middle;\n",
              "    }\n",
              "\n",
              "    .dataframe tbody tr th {\n",
              "        vertical-align: top;\n",
              "    }\n",
              "\n",
              "    .dataframe thead th {\n",
              "        text-align: right;\n",
              "    }\n",
              "<\/style>\n",
              "<table border=\"1\" class=\"dataframe\">\n",
              "  <thead>\n",
              "    <tr style=\"text-align: right;\">\n",
              "      <th><\/th>\n",
              "      <th>PassengerId<\/th>\n",
              "      <th>Survived<\/th>\n",
              "      <th>Pclass<\/th>\n",
              "      <th>Age<\/th>\n",
              "      <th>SibSp<\/th>\n",
              "      <th>Parch<\/th>\n",
              "      <th>Fare<\/th>\n",
              "    <\/tr>\n",
              "  <\/thead>\n",
              "  <tbody>\n",
              "    <tr>\n",
              "      <th>count<\/th>\n",
              "      <td>891.000000<\/td>\n",
              "      <td>891.000000<\/td>\n",
              "      <td>891.000000<\/td>\n",
              "      <td>714.000000<\/td>\n",
              "      <td>891.000000<\/td>\n",
              "      <td>891.000000<\/td>\n",
              "      <td>891.000000<\/td>\n",
              "    <\/tr>\n",
              "    <tr>\n",
              "      <th>mean<\/th>\n",
              "      <td>446.000000<\/td>\n",
              "      <td>0.383838<\/td>\n",
              "      <td>2.308642<\/td>\n",
              "      <td>29.699118<\/td>\n",
              "      <td>0.523008<\/td>\n",
              "      <td>0.381594<\/td>\n",
              "      <td>32.204208<\/td>\n",
              "    <\/tr>\n",
              "    <tr>\n",
              "      <th>std<\/th>\n",
              "      <td>257.353842<\/td>\n",
              "      <td>0.486592<\/td>\n",
              "      <td>0.836071<\/td>\n",
              "      <td>14.526497<\/td>\n",
              "      <td>1.102743<\/td>\n",
              "      <td>0.806057<\/td>\n",
              "      <td>49.693429<\/td>\n",
              "    <\/tr>\n",
              "    <tr>\n",
              "      <th>min<\/th>\n",
              "      <td>1.000000<\/td>\n",
              "      <td>0.000000<\/td>\n",
              "      <td>1.000000<\/td>\n",
              "      <td>0.420000<\/td>\n",
              "      <td>0.000000<\/td>\n",
              "      <td>0.000000<\/td>\n",
              "      <td>0.000000<\/td>\n",
              "    <\/tr>\n",
              "    <tr>\n",
              "      <th>25%<\/th>\n",
              "      <td>223.500000<\/td>\n",
              "      <td>0.000000<\/td>\n",
              "      <td>2.000000<\/td>\n",
              "      <td>20.125000<\/td>\n",
              "      <td>0.000000<\/td>\n",
              "      <td>0.000000<\/td>\n",
              "      <td>7.910400<\/td>\n",
              "    <\/tr>\n",
              "    <tr>\n",
              "      <th>50%<\/th>\n",
              "      <td>446.000000<\/td>\n",
              "      <td>0.000000<\/td>\n",
              "      <td>3.000000<\/td>\n",
              "      <td>28.000000<\/td>\n",
              "      <td>0.000000<\/td>\n",
              "      <td>0.000000<\/td>\n",
              "      <td>14.454200<\/td>\n",
              "    <\/tr>\n",
              "    <tr>\n",
              "      <th>75%<\/th>\n",
              "      <td>668.500000<\/td>\n",
              "      <td>1.000000<\/td>\n",
              "      <td>3.000000<\/td>\n",
              "      <td>38.000000<\/td>\n",
              "      <td>1.000000<\/td>\n",
              "      <td>0.000000<\/td>\n",
              "      <td>31.000000<\/td>\n",
              "    <\/tr>\n",
              "    <tr>\n",
              "      <th>max<\/th>\n",
              "      <td>891.000000<\/td>\n",
              "      <td>1.000000<\/td>\n",
              "      <td>3.000000<\/td>\n",
              "      <td>80.000000<\/td>\n",
              "      <td>8.000000<\/td>\n",
              "      <td>6.000000<\/td>\n",
              "      <td>512.329200<\/td>\n",
              "    <\/tr>\n",
              "  <\/tbody>\n",
              "<\/table>\n",
              "<\/div>"
            ]
          },
          "metadata":{
            
          },
          "output_type":"display_data"
        }
      ],
      "metadata":{
        "jupyter":{
          "source_hidden":false,
          "outputs_hidden":false
        },
        "datalore":{
          "type":"CODE",
          "sheet_delimiter":false
        }
      }
    },
    {
      "cell_type":"code",
      "source":[
        "train_data[\"Survived\"].value_counts()"
      ],
      "execution_count":4,
      "outputs":[
        {
          "data":{
            "text\/html":[
              
            ]
          },
          "metadata":{
            
          },
          "output_type":"display_data"
        }
      ],
      "metadata":{
        "jupyter":{
          "source_hidden":false,
          "outputs_hidden":false
        },
        "datalore":{
          "type":"CODE",
          "sheet_delimiter":false
        }
      }
    },
    {
      "cell_type":"code",
      "source":[
        "train_data[\"Pclass\"].value_counts()"
      ],
      "execution_count":5,
      "outputs":[
        {
          "data":{
            "text\/html":[
              
            ]
          },
          "metadata":{
            
          },
          "output_type":"display_data"
        }
      ],
      "metadata":{
        "jupyter":{
          "source_hidden":false,
          "outputs_hidden":false
        },
        "datalore":{
          "type":"CODE",
          "sheet_delimiter":false
        }
      }
    },
    {
      "cell_type":"code",
      "source":[
        "train_data[\"Sex\"].value_counts()"
      ],
      "execution_count":6,
      "outputs":[
        {
          "data":{
            "text\/html":[
              
            ]
          },
          "metadata":{
            
          },
          "output_type":"display_data"
        }
      ],
      "metadata":{
        "jupyter":{
          "source_hidden":false,
          "outputs_hidden":false
        },
        "datalore":{
          "type":"CODE",
          "sheet_delimiter":false
        }
      }
    },
    {
      "cell_type":"code",
      "source":[
        "train_data[\"Embarked\"].value_counts()"
      ],
      "execution_count":7,
      "outputs":[
        {
          "data":{
            "text\/html":[
              
            ]
          },
          "metadata":{
            
          },
          "output_type":"display_data"
        }
      ],
      "metadata":{
        "jupyter":{
          "source_hidden":false,
          "outputs_hidden":false
        },
        "datalore":{
          "type":"CODE",
          "sheet_delimiter":false
        }
      }
    },
    {
      "cell_type":"code",
      "source":[
        "from sklearn.base import BaseEstimator, TransformerMixin\n",
        "\n",
        "class DataFrameSelector(BaseEstimator, TransformerMixin):\n",
        "    def __init__(self, attribute_names):\n",
        "        self.attribute_names = attribute_names\n",
        "    def fit(self, X, y=None):\n",
        "        return self\n",
        "    def transform(self, X):\n",
        "        return X[self.attribute_names]"
      ],
      "execution_count":8,
      "outputs":[
        
      ],
      "metadata":{
        "jupyter":{
          "source_hidden":false,
          "outputs_hidden":false
        },
        "datalore":{
          "type":"CODE",
          "sheet_delimiter":false
        }
      }
    },
    {
      "cell_type":"code",
      "source":[
        "from sklearn.pipeline import Pipeline\n",
        "from sklearn.impute import SimpleImputer\n",
        "\n",
        "num_pipeline = Pipeline([\n",
        "        (\"select_numeric\", DataFrameSelector([\"Age\", \"SibSp\", \"Parch\", \"Fare\"])),\n",
        "        (\"imputer\", SimpleImputer(strategy=\"median\")),\n",
        "    ])"
      ],
      "execution_count":9,
      "outputs":[
        
      ],
      "metadata":{
        "jupyter":{
          "source_hidden":false,
          "outputs_hidden":false
        },
        "datalore":{
          "type":"CODE",
          "sheet_delimiter":false
        }
      }
    },
    {
      "cell_type":"code",
      "source":[
        "num_pipeline.fit_transform(train_data)"
      ],
      "execution_count":10,
      "outputs":[
        {
          "data":{
            "text\/html":[
              
            ]
          },
          "metadata":{
            
          },
          "output_type":"display_data"
        }
      ],
      "metadata":{
        "jupyter":{
          "source_hidden":false,
          "outputs_hidden":false
        },
        "datalore":{
          "type":"CODE",
          "sheet_delimiter":false
        }
      }
    },
    {
      "cell_type":"code",
      "source":[
        "class MostFrequentImputer(BaseEstimator, TransformerMixin):\n",
        "    def fit(self, X, y=None):\n",
        "        self.most_frequent_ = pd.Series([X[c].value_counts().index[0] for c in X],\n",
        "                                        index=X.columns)\n",
        "        return self\n",
        "    def transform(self, X, y=None):\n",
        "        return X.fillna(self.most_frequent_)"
      ],
      "execution_count":11,
      "outputs":[
        
      ],
      "metadata":{
        "jupyter":{
          "source_hidden":false,
          "outputs_hidden":false
        },
        "datalore":{
          "type":"CODE",
          "sheet_delimiter":false
        }
      }
    },
    {
      "cell_type":"code",
      "source":[
        "from sklearn.preprocessing import OneHotEncoder\n",
        "\n",
        "cat_pipeline = Pipeline([\n",
        "        (\"select_cat\", DataFrameSelector([\"Pclass\", \"Sex\", \"Embarked\"])),\n",
        "        (\"imputer\", MostFrequentImputer()),\n",
        "        (\"cat_encoder\", OneHotEncoder(sparse=False)),\n",
        "    ])\n",
        "\n",
        "cat_pipeline.fit_transform(train_data)"
      ],
      "execution_count":12,
      "outputs":[
        {
          "data":{
            "text\/html":[
              
            ]
          },
          "metadata":{
            
          },
          "output_type":"display_data"
        }
      ],
      "metadata":{
        "jupyter":{
          "source_hidden":false,
          "outputs_hidden":false
        },
        "datalore":{
          "type":"CODE",
          "sheet_delimiter":false
        }
      }
    },
    {
      "cell_type":"code",
      "source":[
        "\n",
        "from sklearn.pipeline import FeatureUnion\n",
        "preprocess_pipeline = FeatureUnion(transformer_list=[\n",
        "        (\"num_pipeline\", num_pipeline),\n",
        "        (\"cat_pipeline\", cat_pipeline),\n",
        "    ])\n",
        "\n",
        "X_train = preprocess_pipeline.fit_transform(train_data)\n",
        "#0 Age 1 SibSp 2 Parch 3 Fare 4 Cabin 6 Pclass 7 Survived 8 Sex 11 Embarked     5,9,10 Ticket PassengerId Name "
      ],
      "execution_count":13,
      "outputs":[
        
      ],
      "metadata":{
        "jupyter":{
          "source_hidden":false,
          "outputs_hidden":false
        },
        "datalore":{
          "type":"CODE",
          "sheet_delimiter":false
        }
      }
    },
    {
      "cell_type":"code",
      "source":[
        "y_train = train_data[\"Survived\"]\n",
        "#Use test data to compare performance of 3 classifiers. \n",
        "#Report the features of each model, the confusion matrix, classification summary, and AUC."
      ],
      "execution_count":14,
      "outputs":[
        
      ],
      "metadata":{
        "jupyter":{
          "source_hidden":false,
          "outputs_hidden":false
        },
        "datalore":{
          "type":"CODE",
          "sheet_delimiter":false
        }
      }
    },
    {
      "cell_type":"code",
      "source":[
        "test_data"
      ],
      "execution_count":15,
      "outputs":[
        {
          "data":{
            "text\/html":[
              "<div>\n",
              "<style scoped>\n",
              "    .dataframe tbody tr th:only-of-type {\n",
              "        vertical-align: middle;\n",
              "    }\n",
              "\n",
              "    .dataframe tbody tr th {\n",
              "        vertical-align: top;\n",
              "    }\n",
              "\n",
              "    .dataframe thead th {\n",
              "        text-align: right;\n",
              "    }\n",
              "<\/style>\n",
              "<table border=\"1\" class=\"dataframe\">\n",
              "  <thead>\n",
              "    <tr style=\"text-align: right;\">\n",
              "      <th><\/th>\n",
              "      <th>PassengerId<\/th>\n",
              "      <th>Pclass<\/th>\n",
              "      <th>Name<\/th>\n",
              "      <th>Sex<\/th>\n",
              "      <th>Age<\/th>\n",
              "      <th>SibSp<\/th>\n",
              "      <th>Parch<\/th>\n",
              "      <th>Ticket<\/th>\n",
              "      <th>Fare<\/th>\n",
              "      <th>Cabin<\/th>\n",
              "      <th>Embarked<\/th>\n",
              "    <\/tr>\n",
              "  <\/thead>\n",
              "  <tbody>\n",
              "    <tr>\n",
              "      <th>0<\/th>\n",
              "      <td>892<\/td>\n",
              "      <td>3<\/td>\n",
              "      <td>Kelly, Mr. James<\/td>\n",
              "      <td>male<\/td>\n",
              "      <td>34.5<\/td>\n",
              "      <td>0<\/td>\n",
              "      <td>0<\/td>\n",
              "      <td>330911<\/td>\n",
              "      <td>7.8292<\/td>\n",
              "      <td>NaN<\/td>\n",
              "      <td>Q<\/td>\n",
              "    <\/tr>\n",
              "    <tr>\n",
              "      <th>1<\/th>\n",
              "      <td>893<\/td>\n",
              "      <td>3<\/td>\n",
              "      <td>Wilkes, Mrs. James (Ellen Needs)<\/td>\n",
              "      <td>female<\/td>\n",
              "      <td>47.0<\/td>\n",
              "      <td>1<\/td>\n",
              "      <td>0<\/td>\n",
              "      <td>363272<\/td>\n",
              "      <td>7.0000<\/td>\n",
              "      <td>NaN<\/td>\n",
              "      <td>S<\/td>\n",
              "    <\/tr>\n",
              "    <tr>\n",
              "      <th>2<\/th>\n",
              "      <td>894<\/td>\n",
              "      <td>2<\/td>\n",
              "      <td>Myles, Mr. Thomas Francis<\/td>\n",
              "      <td>male<\/td>\n",
              "      <td>62.0<\/td>\n",
              "      <td>0<\/td>\n",
              "      <td>0<\/td>\n",
              "      <td>240276<\/td>\n",
              "      <td>9.6875<\/td>\n",
              "      <td>NaN<\/td>\n",
              "      <td>Q<\/td>\n",
              "    <\/tr>\n",
              "    <tr>\n",
              "      <th>3<\/th>\n",
              "      <td>895<\/td>\n",
              "      <td>3<\/td>\n",
              "      <td>Wirz, Mr. Albert<\/td>\n",
              "      <td>male<\/td>\n",
              "      <td>27.0<\/td>\n",
              "      <td>0<\/td>\n",
              "      <td>0<\/td>\n",
              "      <td>315154<\/td>\n",
              "      <td>8.6625<\/td>\n",
              "      <td>NaN<\/td>\n",
              "      <td>S<\/td>\n",
              "    <\/tr>\n",
              "    <tr>\n",
              "      <th>4<\/th>\n",
              "      <td>896<\/td>\n",
              "      <td>3<\/td>\n",
              "      <td>Hirvonen, Mrs. Alexander (Helga E Lindqvist)<\/td>\n",
              "      <td>female<\/td>\n",
              "      <td>22.0<\/td>\n",
              "      <td>1<\/td>\n",
              "      <td>1<\/td>\n",
              "      <td>3101298<\/td>\n",
              "      <td>12.2875<\/td>\n",
              "      <td>NaN<\/td>\n",
              "      <td>S<\/td>\n",
              "    <\/tr>\n",
              "    <tr>\n",
              "      <th>...<\/th>\n",
              "      <td>...<\/td>\n",
              "      <td>...<\/td>\n",
              "      <td>...<\/td>\n",
              "      <td>...<\/td>\n",
              "      <td>...<\/td>\n",
              "      <td>...<\/td>\n",
              "      <td>...<\/td>\n",
              "      <td>...<\/td>\n",
              "      <td>...<\/td>\n",
              "      <td>...<\/td>\n",
              "      <td>...<\/td>\n",
              "    <\/tr>\n",
              "    <tr>\n",
              "      <th>413<\/th>\n",
              "      <td>1305<\/td>\n",
              "      <td>3<\/td>\n",
              "      <td>Spector, Mr. Woolf<\/td>\n",
              "      <td>male<\/td>\n",
              "      <td>NaN<\/td>\n",
              "      <td>0<\/td>\n",
              "      <td>0<\/td>\n",
              "      <td>A.5. 3236<\/td>\n",
              "      <td>8.0500<\/td>\n",
              "      <td>NaN<\/td>\n",
              "      <td>S<\/td>\n",
              "    <\/tr>\n",
              "    <tr>\n",
              "      <th>414<\/th>\n",
              "      <td>1306<\/td>\n",
              "      <td>1<\/td>\n",
              "      <td>Oliva y Ocana, Dona. Fermina<\/td>\n",
              "      <td>female<\/td>\n",
              "      <td>39.0<\/td>\n",
              "      <td>0<\/td>\n",
              "      <td>0<\/td>\n",
              "      <td>PC 17758<\/td>\n",
              "      <td>108.9000<\/td>\n",
              "      <td>C105<\/td>\n",
              "      <td>C<\/td>\n",
              "    <\/tr>\n",
              "    <tr>\n",
              "      <th>415<\/th>\n",
              "      <td>1307<\/td>\n",
              "      <td>3<\/td>\n",
              "      <td>Saether, Mr. Simon Sivertsen<\/td>\n",
              "      <td>male<\/td>\n",
              "      <td>38.5<\/td>\n",
              "      <td>0<\/td>\n",
              "      <td>0<\/td>\n",
              "      <td>SOTON\/O.Q. 3101262<\/td>\n",
              "      <td>7.2500<\/td>\n",
              "      <td>NaN<\/td>\n",
              "      <td>S<\/td>\n",
              "    <\/tr>\n",
              "    <tr>\n",
              "      <th>416<\/th>\n",
              "      <td>1308<\/td>\n",
              "      <td>3<\/td>\n",
              "      <td>Ware, Mr. Frederick<\/td>\n",
              "      <td>male<\/td>\n",
              "      <td>NaN<\/td>\n",
              "      <td>0<\/td>\n",
              "      <td>0<\/td>\n",
              "      <td>359309<\/td>\n",
              "      <td>8.0500<\/td>\n",
              "      <td>NaN<\/td>\n",
              "      <td>S<\/td>\n",
              "    <\/tr>\n",
              "    <tr>\n",
              "      <th>417<\/th>\n",
              "      <td>1309<\/td>\n",
              "      <td>3<\/td>\n",
              "      <td>Peter, Master. Michael J<\/td>\n",
              "      <td>male<\/td>\n",
              "      <td>NaN<\/td>\n",
              "      <td>1<\/td>\n",
              "      <td>1<\/td>\n",
              "      <td>2668<\/td>\n",
              "      <td>22.3583<\/td>\n",
              "      <td>NaN<\/td>\n",
              "      <td>C<\/td>\n",
              "    <\/tr>\n",
              "  <\/tbody>\n",
              "<\/table>\n",
              "<p>418 rows × 11 columns<\/p>\n",
              "<\/div>"
            ]
          },
          "metadata":{
            
          },
          "output_type":"display_data"
        }
      ],
      "metadata":{
        "jupyter":{
          "source_hidden":false,
          "outputs_hidden":false
        },
        "datalore":{
          "type":"CODE",
          "sheet_delimiter":false
        }
      }
    },
    {
      "cell_type":"code",
      "source":[
        "X_test = preprocess_pipeline.fit_transform(test_data)\n",
        "X_test"
      ],
      "execution_count":16,
      "outputs":[
        {
          "data":{
            "text\/html":[
              
            ]
          },
          "metadata":{
            
          },
          "output_type":"display_data"
        }
      ],
      "metadata":{
        "jupyter":{
          "source_hidden":false,
          "outputs_hidden":false
        },
        "datalore":{
          "type":"CODE",
          "sheet_delimiter":false
        }
      }
    },
    {
      "cell_type":"code",
      "source":[
        "from sklearn.model_selection import train_test_split\n",
        "from sklearn.linear_model import LogisticRegression\n",
        "from sklearn import metrics\n",
        "from sklearn.metrics import classification_report\n",
        "from sklearn import svm\n",
        "from sklearn.neighbors import KNeighborsClassifier"
      ],
      "execution_count":17,
      "outputs":[
        
      ],
      "metadata":{
        "jupyter":{
          "source_hidden":false,
          "outputs_hidden":false
        },
        "datalore":{
          "type":"CODE",
          "sheet_delimiter":false
        }
      }
    },
    {
      "cell_type":"code",
      "source":[
        "X_train, X_val, y_train, y_val = train_test_split(X_train, y_train, test_size=0.4)\n",
        "X_train"
      ],
      "execution_count":18,
      "outputs":[
        {
          "data":{
            "text\/html":[
              
            ]
          },
          "metadata":{
            
          },
          "output_type":"display_data"
        }
      ],
      "metadata":{
        "jupyter":{
          "source_hidden":false,
          "outputs_hidden":false
        },
        "datalore":{
          "type":"CODE",
          "sheet_delimiter":false
        }
      }
    },
    {
      "cell_type":"code",
      "source":[
        "len(X_train)"
      ],
      "execution_count":19,
      "outputs":[
        {
          "data":{
            "text\/plain":[
              "534"
            ]
          },
          "metadata":{
            
          },
          "output_type":"display_data"
        }
      ],
      "metadata":{
        "jupyter":{
          "source_hidden":false,
          "outputs_hidden":false
        },
        "datalore":{
          "type":"CODE",
          "sheet_delimiter":false
        }
      }
    },
    {
      "cell_type":"code",
      "source":[
        "#Logistic regression\n",
        "\n",
        "\n",
        "clf = LogisticRegression(random_state=0).fit(X_train, y_train)\n",
        "y_pred = clf.predict(X_val)\n",
        "metrics.confusion_matrix(y_val, y_pred)"
      ],
      "execution_count":20,
      "outputs":[
        {
          "name":"stderr",
          "text":[
            "\/opt\/python\/envs\/default\/lib\/python3.8\/site-packages\/sklearn\/linear_model\/_logistic.py:814: ConvergenceWarning: lbfgs failed to converge (status=1):\n",
            "STOP: TOTAL NO. of ITERATIONS REACHED LIMIT.\n",
            "\n",
            "Increase the number of iterations (max_iter) or scale the data as shown in:\n",
            "    https:\/\/scikit-learn.org\/stable\/modules\/preprocessing.html\n",
            "Please also refer to the documentation for alternative solver options:\n",
            "    https:\/\/scikit-learn.org\/stable\/modules\/linear_model.html#logistic-regression\n",
            "  n_iter_i = _check_optimize_result(\n"
          ],
          "output_type":"stream"
        },
        {
          "data":{
            "text\/html":[
              
            ]
          },
          "metadata":{
            
          },
          "output_type":"display_data"
        }
      ],
      "metadata":{
        "jupyter":{
          "source_hidden":false,
          "outputs_hidden":false
        },
        "datalore":{
          "type":"CODE",
          "sheet_delimiter":false
        }
      }
    },
    {
      "cell_type":"code",
      "source":[
        "print(classification_report(y_val, y_pred))"
      ],
      "execution_count":21,
      "outputs":[
        {
          "name":"stdout",
          "text":[
            "              precision    recall  f1-score   support\n",
            "\n",
            "           0       0.80      0.90      0.85       217\n",
            "           1       0.81      0.64      0.72       140\n",
            "\n",
            "    accuracy                           0.80       357\n",
            "   macro avg       0.80      0.77      0.78       357\n",
            "weighted avg       0.80      0.80      0.80       357\n",
            "\n"
          ],
          "output_type":"stream"
        }
      ],
      "metadata":{
        "jupyter":{
          "source_hidden":false,
          "outputs_hidden":false
        },
        "datalore":{
          "type":"CODE",
          "sheet_delimiter":false
        }
      }
    },
    {
      "cell_type":"code",
      "source":[
        "metrics.roc_auc_score(y_val, clf.predict_proba(X_val)[:,1])"
      ],
      "execution_count":22,
      "outputs":[
        {
          "data":{
            "text\/plain":[
              "0.8479921000658328"
            ]
          },
          "metadata":{
            
          },
          "output_type":"display_data"
        }
      ],
      "metadata":{
        "jupyter":{
          "source_hidden":false,
          "outputs_hidden":false
        },
        "datalore":{
          "type":"CODE",
          "sheet_delimiter":false
        }
      }
    },
    {
      "cell_type":"code",
      "source":[
        "Logistic = pd.DataFrame(clf.predict(X_test))\n",
        "Logistic.to_csv('Logistic.csv') #Score: 0.76555"
      ],
      "execution_count":23,
      "outputs":[
        
      ],
      "metadata":{
        "jupyter":{
          "source_hidden":false,
          "outputs_hidden":false
        },
        "datalore":{
          "type":"CODE",
          "sheet_delimiter":false
        }
      }
    },
    {
      "cell_type":"code",
      "source":[
        "#SVM\n",
        "clf = svm.SVC(probability=True)\n",
        "clf.fit(X_train, y_train)\n",
        "y_pred = clf.predict(X_val)\n",
        "metrics.confusion_matrix(y_val, y_pred)"
      ],
      "execution_count":24,
      "outputs":[
        {
          "data":{
            "text\/html":[
              
            ]
          },
          "metadata":{
            
          },
          "output_type":"display_data"
        }
      ],
      "metadata":{
        "jupyter":{
          "source_hidden":false,
          "outputs_hidden":false
        },
        "datalore":{
          "type":"CODE",
          "sheet_delimiter":false
        }
      }
    },
    {
      "cell_type":"code",
      "source":[
        "print(classification_report(y_val, y_pred))"
      ],
      "execution_count":25,
      "outputs":[
        {
          "name":"stdout",
          "text":[
            "              precision    recall  f1-score   support\n",
            "\n",
            "           0       0.64      0.92      0.76       217\n",
            "           1       0.62      0.21      0.32       140\n",
            "\n",
            "    accuracy                           0.64       357\n",
            "   macro avg       0.63      0.57      0.54       357\n",
            "weighted avg       0.64      0.64      0.59       357\n",
            "\n"
          ],
          "output_type":"stream"
        }
      ],
      "metadata":{
        "jupyter":{
          "source_hidden":false,
          "outputs_hidden":false
        },
        "datalore":{
          "type":"CODE",
          "sheet_delimiter":false
        }
      }
    },
    {
      "cell_type":"code",
      "source":[
        "#SVM = pd.DataFrame(clf.predict(X_test))\n",
        "#SVM.to_csv('SVM.csv') #0.66507\n",
        "metrics.roc_auc_score(y_val, clf.predict_proba(X_val)[:,1])"
      ],
      "execution_count":26,
      "outputs":[
        {
          "data":{
            "text\/plain":[
              "0.7274193548387096"
            ]
          },
          "metadata":{
            
          },
          "output_type":"display_data"
        }
      ],
      "metadata":{
        "jupyter":{
          "source_hidden":false,
          "outputs_hidden":false
        },
        "datalore":{
          "type":"CODE",
          "sheet_delimiter":false
        }
      }
    },
    {
      "cell_type":"code",
      "source":[
        "#KNN classifier\n",
        "kk = []\n",
        "for i in range(1, 100):\n",
        "    neigh = KNeighborsClassifier(n_neighbors=i)\n",
        "    neigh.fit(X_train, y_train)\n",
        "    y_pred = neigh.predict(X_val)\n",
        "    kk.append(metrics.roc_auc_score(y_val, y_pred))\n",
        "kk.index(max(kk))\n",
        "# k = 9\n",
        "neigh = KNeighborsClassifier(n_neighbors=9)\n",
        "neigh.fit(X_train, y_train)\n",
        "y_pred = neigh.predict(X_val)"
      ],
      "execution_count":27,
      "outputs":[
        
      ],
      "metadata":{
        "jupyter":{
          "source_hidden":false,
          "outputs_hidden":false
        },
        "datalore":{
          "type":"CODE",
          "sheet_delimiter":false
        }
      }
    },
    {
      "cell_type":"code",
      "source":[
        "metrics.confusion_matrix(y_val, y_pred)"
      ],
      "execution_count":28,
      "outputs":[
        {
          "data":{
            "text\/html":[
              
            ]
          },
          "metadata":{
            
          },
          "output_type":"display_data"
        }
      ],
      "metadata":{
        "jupyter":{
          "source_hidden":false,
          "outputs_hidden":false
        },
        "datalore":{
          "type":"CODE",
          "sheet_delimiter":false
        }
      }
    },
    {
      "cell_type":"code",
      "source":[
        "print(classification_report(y_val, y_pred))\n",
        "#knn = pd.DataFrame(neigh.predict(X_test))\n",
        "#knn.to_csv('KNN.csv') \n",
        "#k=1, 0.60765\n",
        "#k=2, 0.61961\n",
        "#k=3, 0.59569\n",
        "#k=4, 0.62200\n",
        "#k=5, 0.61961"
      ],
      "execution_count":29,
      "outputs":[
        {
          "name":"stdout",
          "text":[
            "              precision    recall  f1-score   support\n",
            "\n",
            "           0       0.71      0.84      0.77       217\n",
            "           1       0.65      0.46      0.54       140\n",
            "\n",
            "    accuracy                           0.69       357\n",
            "   macro avg       0.68      0.65      0.65       357\n",
            "weighted avg       0.68      0.69      0.68       357\n",
            "\n"
          ],
          "output_type":"stream"
        }
      ],
      "metadata":{
        "jupyter":{
          "source_hidden":false,
          "outputs_hidden":false
        },
        "datalore":{
          "type":"CODE",
          "sheet_delimiter":false
        }
      }
    },
    {
      "cell_type":"code",
      "source":[
        "metrics.roc_auc_score(y_val, clf.predict_proba(X_val)[:,1])"
      ],
      "execution_count":30,
      "outputs":[
        {
          "data":{
            "text\/plain":[
              "0.7274193548387096"
            ]
          },
          "metadata":{
            
          },
          "output_type":"display_data"
        }
      ],
      "metadata":{
        "jupyter":{
          "source_hidden":false,
          "outputs_hidden":false
        },
        "datalore":{
          "type":"CODE",
          "sheet_delimiter":false
        }
      }
    }
  ],
  "metadata":{
    "datalore":{
      "version":1,
      "computation_mode":"JUPYTER",
      "package_manager":"pip",
      "base_environment":"default",
      "packages":[
        
      ]
    }
  },
  "nbformat":4,
  "nbformat_minor":4
}
